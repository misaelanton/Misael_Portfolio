{
 "cells": [
  {
   "cell_type": "markdown",
   "metadata": {},
   "source": [
    "Helmholtz analysis"
   ]
  },
  {
   "cell_type": "code",
   "execution_count": null,
   "metadata": {},
   "outputs": [],
   "source": [
    "import sys\n",
    "import numpy as np\n",
    "import pandas as pd\n",
    "from matplotlib import pyplot as plt\n",
    "from numpy import loadtxt\n",
    "from scipy.stats import norm\n",
    "from scipy.optimize import curve_fit\n",
    "from scipy.stats import chisquare\n",
    "import seaborn as sns\n",
    "\n",
    "%matplotlib inline"
   ]
  },
  {
   "cell_type": "code",
   "execution_count": 2,
   "metadata": {},
   "outputs": [],
   "source": [
    "# Helmoltz Resonance\n",
    "def no_neck(v):\n",
    "    V = v*1e-6\n",
    "    R = 1* 0.5* 1e-2\n",
    "    A = np.pi * R**2\n",
    "    L = np.pi/2 * R\n",
    "    vs = 343\n",
    "    pi = np.pi\n",
    "    return (vs/ (2*pi))*np.sqrt(A/(V*L))\n"
   ]
  },
  {
   "cell_type": "code",
   "execution_count": 3,
   "metadata": {},
   "outputs": [],
   "source": [
    "def no_neck_v(v):\n",
    "    V = v*1e-6\n",
    "    R = 1* 0.5* 1e-2\n",
    "    A = np.pi * R**2\n",
    "    L = np.pi/2 * R\n",
    "    vs = 331 + 0.6*-20\n",
    "    pi = np.pi\n",
    "    return (vs/ (2*pi))*np.sqrt(A/(V*L))"
   ]
  },
  {
   "cell_type": "code",
   "execution_count": 4,
   "metadata": {},
   "outputs": [
    {
     "data": {
      "text/plain": [
       "319.0"
      ]
     },
     "execution_count": 4,
     "metadata": {},
     "output_type": "execute_result"
    }
   ],
   "source": [
    "vs = 331 + 0.6*-20\n",
    "vs"
   ]
  },
  {
   "cell_type": "code",
   "execution_count": 5,
   "metadata": {},
   "outputs": [],
   "source": [
    "# Helmoltz Resonance with neck \n",
    "def neck(v):\n",
    "    V = v*1e-6\n",
    "    R = 0.005\n",
    "    A = np.pi * R**2\n",
    "    L = np.pi/2 * R\n",
    "    vs = 343\n",
    "    pi = np.pi\n",
    "    return (vs/ (2*pi))*np.sqrt(A/(V*L))\n",
    "\n"
   ]
  },
  {
   "cell_type": "code",
   "execution_count": 6,
   "metadata": {},
   "outputs": [],
   "source": [
    "#Helmholtz Frequency with Different Aperture\n",
    "def aperture(d):\n",
    "    V = 326*1e-6\n",
    "    R = d* 0.5* 1e-2\n",
    "    A = np.pi * R**2\n",
    "    L =  (np.pi/2) * R\n",
    "    vs = 331 + 0.6*10\n",
    "    pi = np.pi\n",
    "    return (vs/ (2*pi))*np.sqrt(A/(V*L))\n"
   ]
  },
  {
   "cell_type": "code",
   "execution_count": 7,
   "metadata": {},
   "outputs": [],
   "source": [
    "def aperture_v(d):\n",
    "    V = 326*1e-6\n",
    "    R = d* 0.5* 1e-2\n",
    "    A = np.pi * R**2\n",
    "    L =  (np.pi/2) * R\n",
    "    vs = 331 + 0.6*-40\n",
    "    pi = np.pi\n",
    "    return (vs/ (2*pi))*np.sqrt(A/(V*L))\n",
    "\n",
    "\n"
   ]
  },
  {
   "cell_type": "code",
   "execution_count": 8,
   "metadata": {},
   "outputs": [
    {
     "data": {
      "text/plain": [
       "343.0"
      ]
     },
     "execution_count": 8,
     "metadata": {},
     "output_type": "execute_result"
    }
   ],
   "source": [
    "vs = 331 + 0.6*20\n",
    "vs"
   ]
  },
  {
   "cell_type": "code",
   "execution_count": 9,
   "metadata": {},
   "outputs": [],
   "source": [
    "#gaussian and Gaussian fit\n",
    "def gauss(x,H,A,xo, sigma):\n",
    "    return H + A*np.exp(-(x-xo)**2/(2*sigma**2))\n",
    "\n",
    "def gauss_fit(x,y):\n",
    "    mean = sum(x*y)/sum(y)\n",
    "    sigma = np.sqrt(sum(y * (x - mean) ** 2)/ sum(y))\n",
    "    popt, pcov = curve_fit(gauss, x, y, p0=[min(y), max(y),mean, sigma])\n",
    "    return popt"
   ]
  },
  {
   "cell_type": "code",
   "execution_count": 10,
   "metadata": {},
   "outputs": [],
   "source": [
    "def w_per_mr(dB):\n",
    "    I0 = 10e-12\n",
    "    return I0*10**(dB/10)"
   ]
  },
  {
   "cell_type": "code",
   "execution_count": null,
   "metadata": {},
   "outputs": [],
   "source": [
    "\n"
   ]
  },
  {
   "cell_type": "code",
   "execution_count": 11,
   "metadata": {},
   "outputs": [],
   "source": [
    "#Data \n",
    "#volume \n",
    "v135 = pd.read_csv('v126.csv')\n",
    "v120 = pd.read_csv('v141.csv')\n",
    "v100 = pd.read_csv('v161.csv')\n",
    "v77 = pd.read_csv('v184.csv')\n",
    "v47 = pd.read_csv('v214.csv')\n",
    "v31 = pd.read_csv('v230.csv')\n",
    "v17 = pd.read_csv('v244.csv')\n",
    "v5 = pd.read_csv('v256.csv')\n",
    "\n",
    "#Data 2\n",
    "\n",
    "\n",
    "\n"
   ]
  },
  {
   "cell_type": "code",
   "execution_count": 12,
   "metadata": {},
   "outputs": [],
   "source": [
    "frequency = v135[\"Frequency\"]"
   ]
  },
  {
   "cell_type": "code",
   "execution_count": 13,
   "metadata": {},
   "outputs": [
    {
     "name": "stdout",
     "output_type": "stream",
     "text": [
      "v1 = 135\n",
      "v1 = 120\n",
      "v1 = 100\n",
      "v1 = 77\n",
      "v1 = 47\n",
      "v1 = 31\n",
      "v1 = 17\n",
      "v1 = 5\n"
     ]
    }
   ],
   "source": [
    "print(\"v1 =\", 261 - 126)\n",
    "print(\"v1 =\", 261 - 141)\n",
    "print(\"v1 =\", 261 - 161)\n",
    "print(\"v1 =\", 261 - 184)\n",
    "print(\"v1 =\", 261 - 214)\n",
    "print(\"v1 =\", 261 - 230)\n",
    "print(\"v1 =\", 261 - 244)\n",
    "print(\"v1 =\", 261 - 256)\n"
   ]
  },
  {
   "cell_type": "code",
   "execution_count": 14,
   "metadata": {},
   "outputs": [
    {
     "data": {
      "text/plain": [
       "<matplotlib.legend.Legend at 0x7f90cb2d1d50>"
      ]
     },
     "execution_count": 14,
     "metadata": {},
     "output_type": "execute_result"
    },
    {
     "data": {
      "image/png": "[encoded data removed]",
      "text/plain": [
       "<Figure size 432x288 with 1 Axes>"
      ]
     },
     "metadata": {
      "needs_background": "light"
     },
     "output_type": "display_data"
    }
   ],
   "source": [
    "x = v135[\"Frequency\"]\n",
    "y = (v135[\" Data\"])\n",
    "plt.plot(x,y, label = \"Spectrum\")\n",
    "plt.title(\"Spectrum of Volume 135 $cm^{3}$\")\n",
    "plt.xlabel(\"Frequency (Hz)\")\n",
    "plt.ylabel('Decibels (db)')\n",
    "plt.grid()\n",
    "plt.legend()"
   ]
  },
  {
   "cell_type": "code",
   "execution_count": 15,
   "metadata": {},
   "outputs": [
    {
     "data": {
      "text/plain": [
       "<matplotlib.legend.Legend at 0x7f90cb7382d0>"
      ]
     },
     "execution_count": 15,
     "metadata": {},
     "output_type": "execute_result"
    },
    {
     "data": {
      "image/png": "[encoded data removed]",
      "text/plain": [
       "<Figure size 432x288 with 1 Axes>"
      ]
     },
     "metadata": {
      "needs_background": "light"
     },
     "output_type": "display_data"
    }
   ],
   "source": [
    "#After Linear Transformation\n",
    "x = v135[\"Frequency\"]\n",
    "y = w_per_mr(v135[\" Data\"])\n",
    "\n",
    "\n",
    "plt.plot(x,y, label = \"Power Spectrum\")\n",
    "plt.title(\"Power Spectrum of Volume 135 $cm^{3}$\")\n",
    "plt.xlabel(\"Frequency (Hz)\")\n",
    "plt.ylabel('Amplitude (W/$m^{2}$)')\n",
    "plt.grid()\n",
    "plt.legend()\n"
   ]
  },
  {
   "cell_type": "code",
   "execution_count": 16,
   "metadata": {},
   "outputs": [
    {
     "data": {
      "text/plain": [
       "12.060815161401093"
      ]
     },
     "execution_count": 16,
     "metadata": {},
     "output_type": "execute_result"
    },
    {
     "data": {
      "image/png": "[encoded data removed]",
      "text/plain": [
       "<Figure size 432x288 with 1 Axes>"
      ]
     },
     "metadata": {
      "needs_background": "light"
     },
     "output_type": "display_data"
    }
   ],
   "source": [
    "x = v135[\"Frequency\"][200:250]\n",
    "y = w_per_mr(v135[\" Data\"][200:250])\n",
    "\n",
    "popt = gauss_fit(x,y)\n",
    "x7x = np.linspace(400,480,1000)\n",
    "\n",
    "plt.plot(x7x, gauss(x7x, *popt))\n",
    "\n",
    "plt.scatter(x,y, color = \"r\")\n",
    "\n",
    "fr_index = list(gauss(x,*popt)).index(np.max(gauss(x, *popt)))\n",
    "fr_v135 = frequency[200 + fr_index]\n",
    "fr_v135\n",
    "\n",
    "\n",
    "maxi = np.max(gauss(x7x,*popt))\n",
    "\n",
    "half_max_array = np.array([maxi/2]*len(x7x))\n",
    "\n",
    "abs_vals = abs(np.array(gauss(x7x,*popt) - half_max_array))\n",
    "\n",
    "min1 = np.min(abs_vals[0:fr_index])\n",
    "\n",
    "min_index1 = list(abs_vals[0:fr_index]).index(min1)\n",
    "\n",
    "min2 = np.min(abs_vals[fr_index:len(x7x)])\n",
    "\n",
    "min_index2 = fr_index + list(abs_vals[fr_index:len(x7x)]).index(min2)\n",
    "\n",
    "FWHM_135 = abs(x7x[min_index1]- x7x[min_index2])\n",
    "\n",
    "q135 = fr_v135/FWHM_135\n",
    "\n",
    "q135"
   ]
  },
  {
   "cell_type": "code",
   "execution_count": 17,
   "metadata": {},
   "outputs": [
    {
     "name": "stdout",
     "output_type": "stream",
     "text": [
      "6.626159693896353e-14\n"
     ]
    }
   ],
   "source": [
    "print(maxi)"
   ]
  },
  {
   "cell_type": "code",
   "execution_count": 18,
   "metadata": {},
   "outputs": [
    {
     "name": "stdout",
     "output_type": "stream",
     "text": [
      "[4.05220254e-16 6.58564303e-14 4.40043947e+02 3.06095336e+00]\n"
     ]
    }
   ],
   "source": [
    "mean = gauss_fit(x,y)\n",
    "print(mean)"
   ]
  },
  {
   "cell_type": "code",
   "execution_count": 19,
   "metadata": {},
   "outputs": [
    {
     "data": {
      "text/plain": [
       "13.68884575076219"
      ]
     },
     "execution_count": 19,
     "metadata": {},
     "output_type": "execute_result"
    },
    {
     "data": {
      "image/png": "[encoded data removed]",
      "text/plain": [
       "<Figure size 432x288 with 1 Axes>"
      ]
     },
     "metadata": {
      "needs_background": "light"
     },
     "output_type": "display_data"
    }
   ],
   "source": [
    "x2 = v120[\"Frequency\"][210:250]\n",
    "y2 = w_per_mr(v120[\" Data\"][210:250])\n",
    "\n",
    "x1 = np.linspace(410,490, 2000)\n",
    "\n",
    "popt = gauss_fit(x2,y2)\n",
    "\n",
    "plt.plot(x1, gauss(x1, *popt))\n",
    "\n",
    "plt.scatter(x2 , y2, color = \"r\")\n",
    "\n",
    "fr_index = list(gauss(x2,*popt)).index(np.max(gauss(x2, *popt)))\n",
    "fr_v120 = frequency[210 + fr_index]\n",
    "fr_v120\n",
    "\n",
    "maxi = np.max(gauss(x1,*popt))\n",
    "\n",
    "half_max_array = np.array([maxi/2]*len(x1))\n",
    "\n",
    "abs_vals = abs(np.array(gauss(x1,*popt) - half_max_array))\n",
    "\n",
    "min1 = np.min(abs_vals[0:fr_index])\n",
    "\n",
    "min_index1 = list(abs_vals[0:fr_index]).index(min1)\n",
    "\n",
    "min2 = np.min(abs_vals[fr_index:len(x1)])\n",
    "\n",
    "min_index2 = fr_index + list(abs_vals[fr_index:len(x1)]).index(min2)\n",
    "\n",
    "FWHM_200 = abs(x1[min_index1]-x1[min_index2])\n",
    "\n",
    "q200 = fr_v120 / FWHM_200\n",
    "\n",
    "q200\n"
   ]
  },
  {
   "cell_type": "code",
   "execution_count": 20,
   "metadata": {},
   "outputs": [
    {
     "ename": "NameError",
     "evalue": "name 'x3' is not defined",
     "output_type": "error",
     "traceback": [
      "\u001b[0;31m---------------------------------------------------------------------------\u001b[0m",
      "\u001b[0;31mNameError\u001b[0m                                 Traceback (most recent call last)",
      "\u001b[0;32m/var/folders/pr/1r3sskdx3tx49f17j2_00yx40000gn/T/ipykernel_13478/1047740452.py\u001b[0m in \u001b[0;36m<module>\u001b[0;34m\u001b[0m\n\u001b[0;32m----> 1\u001b[0;31m \u001b[0msigma120\u001b[0m \u001b[0;34m=\u001b[0m \u001b[0mgauss_fit\u001b[0m\u001b[0;34m(\u001b[0m\u001b[0mx3\u001b[0m\u001b[0;34m,\u001b[0m\u001b[0my3\u001b[0m\u001b[0;34m)\u001b[0m\u001b[0;34m\u001b[0m\u001b[0;34m\u001b[0m\u001b[0m\n\u001b[0m\u001b[1;32m      2\u001b[0m \u001b[0mprint\u001b[0m\u001b[0;34m(\u001b[0m\u001b[0msigma120\u001b[0m\u001b[0;34m)\u001b[0m\u001b[0;34m\u001b[0m\u001b[0;34m\u001b[0m\u001b[0m\n",
      "\u001b[0;31mNameError\u001b[0m: name 'x3' is not defined"
     ]
    }
   ],
   "source": [
    "sigma120 = gauss_fit(x3,y3)\n",
    "print(sigma120)"
   ]
  },
  {
   "cell_type": "code",
   "execution_count": null,
   "metadata": {},
   "outputs": [],
   "source": [
    "x3 = v100[\"Frequency\"][220:280]\n",
    "y3 = w_per_mr(v100[\" Data\"][220:280])\n",
    "\n",
    "x1 = np.linspace(440,540, 2000)\n",
    "\n",
    "popt = gauss_fit(x3,y3)\n",
    "\n",
    "plt.plot(x1, gauss(x1, *popt))\n",
    "\n",
    "plt.scatter(x3 , y3, color = \"r\")\n",
    "\n",
    "fr_index = list(gauss(x3,*popt)).index(np.max(gauss(x3, *popt)))\n",
    "fr_v100 = frequency[220 + fr_index]\n",
    "fr_v100\n",
    "\n",
    "\n",
    "maxi = np.max(gauss(x1,*popt))\n",
    "\n",
    "half_max_array = np.array([maxi/2]*len(x1))\n",
    "\n",
    "abs_vals = abs(np.array(gauss(x1,*popt) - half_max_array))\n",
    "\n",
    "min1 = np.min(abs_vals[0:fr_index])\n",
    "\n",
    "min_index1 = list(abs_vals[0:fr_index]).index(min1)\n",
    "\n",
    "min2 = np.min(abs_vals[fr_index:len(x1)])\n",
    "\n",
    "min_index2 = fr_index + list(abs_vals[fr_index:len(x1)]).index(min2)\n",
    "\n",
    "FWHM_200 = abs(x1[min_index1]-x1[min_index2])\n",
    "\n",
    "q100 = fr_v100 / FWHM_200\n",
    "\n",
    "q100\n"
   ]
  },
  {
   "cell_type": "code",
   "execution_count": null,
   "metadata": {},
   "outputs": [],
   "source": [
    "sigma120 = gauss_fit(x7,y7)\n",
    "print(sigma120)"
   ]
  },
  {
   "cell_type": "code",
   "execution_count": null,
   "metadata": {},
   "outputs": [],
   "source": []
  },
  {
   "cell_type": "code",
   "execution_count": null,
   "metadata": {},
   "outputs": [],
   "source": [
    "x4 = v77[\"Frequency\"][260:300]\n",
    "y4 = w_per_mr(v77[\" Data\"][260:300])\n",
    "x1 = np.linspace(510,590, 2000)\n",
    "\n",
    "\n",
    "popt = gauss_fit(x4,y4)\n",
    "\n",
    "plt.plot(x1, gauss(x1, *popt), label = \"Gaussian Fitting\")\n",
    "\n",
    "plt.scatter(x4 , y4, color = \"r\", label = \"Observed Frequency\")\n",
    "\n",
    "fr_index = list(gauss(x4,*popt)).index(np.max(gauss(x4, *popt)))\n",
    "fr_v77 = frequency[260 + fr_index]\n",
    "fr_v77\n",
    "plt.title(\"Volume $cm^{3}$\")\n",
    "plt.xlabel(\"Frequency (Hz)\")\n",
    "plt.ylabel('Amplitude (W/$m^{2}$)')\n",
    "plt.grid()\n",
    "plt.legend()\n",
    "plt.tight_layout()\n",
    "\n",
    "maxi = np.max(gauss(x1,*popt))\n",
    "\n",
    "half_max_array = np.array([maxi/2]*len(x1))\n",
    "\n",
    "abs_vals = abs(np.array(gauss(x1,*popt) - half_max_array))\n",
    "\n",
    "min1 = np.min(abs_vals[0:fr_index])\n",
    "\n",
    "min_index1 = list(abs_vals[0:fr_index]).index(min1)\n",
    "\n",
    "min2 = np.min(abs_vals[fr_index:len(x1)])\n",
    "\n",
    "min_index2 = fr_index + list(abs_vals[fr_index:len(x1)]).index(min2)\n",
    "\n",
    "FWHM_200 = abs(x1[min_index1]-x1[min_index2])\n",
    "\n",
    "q77 = fr_v77 / FWHM_200\n",
    "\n",
    "q77\n",
    "\n",
    "\n",
    "\n"
   ]
  },
  {
   "cell_type": "code",
   "execution_count": null,
   "metadata": {},
   "outputs": [],
   "source": [
    "x5 = v47[\"Frequency\"][300:350]\n",
    "y5 = w_per_mr(v47[\" Data\"][300:350])\n",
    "x1 = np.linspace(600,680, 2000)\n",
    "\n",
    "popt = gauss_fit(x5,y5)\n",
    "\n",
    "plt.plot(x1, gauss(x1, *popt))\n",
    "\n",
    "plt.scatter(x5 , y5, color = \"r\")\n",
    "\n",
    "fr_index = list(gauss(x5,*popt)).index(np.max(gauss(x5, *popt)))\n",
    "fr_v47 = frequency[300 + fr_index]\n",
    "fr_v47\n",
    "\n",
    "maxi = np.max(gauss(x1,*popt))\n",
    "\n",
    "half_max_array = np.array([maxi/2]*len(x1))\n",
    "\n",
    "abs_vals = abs(np.array(gauss(x1,*popt) - half_max_array))\n",
    "\n",
    "min1 = np.min(abs_vals[0:fr_index])\n",
    "\n",
    "min_index1 = list(abs_vals[0:fr_index]).index(min1)\n",
    "\n",
    "min2 = np.min(abs_vals[fr_index:len(x1)])\n",
    "\n",
    "min_index2 = fr_index + list(abs_vals[fr_index:len(x1)]).index(min2)\n",
    "\n",
    "FWHM_200 = abs(x1[min_index1]-x1[min_index2])\n",
    "\n",
    "q100 = fr_v47 / FWHM_200\n",
    "\n",
    "q100\n"
   ]
  },
  {
   "cell_type": "code",
   "execution_count": null,
   "metadata": {},
   "outputs": [],
   "source": [
    "sigma120 = gauss_fit(x5,y5)\n",
    "print(sigma120)"
   ]
  },
  {
   "cell_type": "code",
   "execution_count": null,
   "metadata": {},
   "outputs": [],
   "source": []
  },
  {
   "cell_type": "code",
   "execution_count": null,
   "metadata": {},
   "outputs": [],
   "source": [
    "x6 = v31[\"Frequency\"][375:500]\n",
    "y6 = w_per_mr(v31[\" Data\"][375:500])\n",
    "\n",
    "x1 = np.linspace(750,950, 2000)\n",
    "\n",
    "popt = gauss_fit(x6,y6)\n",
    "\n",
    "plt.plot(x6, gauss(x6, *popt))\n",
    "\n",
    "plt.scatter(x6 , y6, color = \"r\")\n",
    "\n",
    "\n",
    "fr_index = list(gauss(x6,*popt)).index(np.max(gauss(x6, *popt)))\n",
    "fr_v31 = frequency[375 + fr_index]\n",
    "fr_v31\n",
    "\n",
    "maxi = np.max(gauss(x1,*popt))\n",
    "\n",
    "half_max_array = np.array([maxi/2]*len(x1))\n",
    "\n",
    "abs_vals = abs(np.array(gauss(x1,*popt) - half_max_array))\n",
    "\n",
    "min1 = np.min(abs_vals[0:fr_index])\n",
    "\n",
    "min_index1 = list(abs_vals[0:fr_index]).index(min1)\n",
    "\n",
    "min2 = np.min(abs_vals[fr_index:len(x1)])\n",
    "\n",
    "min_index2 = fr_index + list(abs_vals[fr_index:len(x1)]).index(min2)\n",
    "\n",
    "FWHM_200 = abs(x1[min_index1]-x1[min_index2])\n",
    "\n",
    "q31 = fr_v31 / FWHM_200\n",
    "\n",
    "q31\n",
    "\n",
    "\n"
   ]
  },
  {
   "cell_type": "code",
   "execution_count": null,
   "metadata": {},
   "outputs": [],
   "source": [
    "x7 = v17[\"Frequency\"][480:510]\n",
    "y7 = w_per_mr(v17[\" Data\"][480:510])\n",
    "\n",
    "x = np.linspace(940,990,1000)\n",
    "\n",
    "popt = gauss_fit(x7,y7)\n",
    "\n",
    "plt.plot(x7x, gauss(x7x, *popt))\n",
    "\n",
    "plt.scatter(x7 , y7, color = \"r\") \n",
    "\n",
    "fr_index = list(gauss(x7,*popt)).index(np.max(gauss(x7, *popt)))\n",
    "fr_v17 = frequency[480 + fr_index]\n",
    "fr_v17\n",
    "\n",
    "\n",
    "maxi = np.max(gauss(x1,*popt))\n",
    "\n",
    "half_max_array = np.array([maxi/2]*len(x1))\n",
    "\n",
    "abs_vals = abs(np.array(gauss(x1,*popt) - half_max_array))\n",
    "\n",
    "min1 = np.min(abs_vals[0:fr_index])\n",
    "\n",
    "min_index1 = list(abs_vals[0:fr_index]).index(min1)\n",
    "\n",
    "min2 = np.min(abs_vals[fr_index:len(x1)])\n",
    "\n",
    "min_index2 = fr_index + list(abs_vals[fr_index:len(x1)]).index(min2)\n",
    "\n",
    "FWHM_200 = abs(x1[min_index1]-x1[min_index2])\n",
    "\n",
    "q31 = fr_v31 / FWHM_200\n",
    "\n",
    "q31\n"
   ]
  },
  {
   "cell_type": "code",
   "execution_count": null,
   "metadata": {},
   "outputs": [],
   "source": [
    "sigma120 = gauss_fit(x7,y7)\n",
    "print(sigma120)"
   ]
  },
  {
   "cell_type": "code",
   "execution_count": null,
   "metadata": {},
   "outputs": [],
   "source": [
    "x8 = v5[\"Frequency\"][950:1000]\n",
    "y8 = w_per_mr(v5[\" Data\"][950:1000])\n",
    "\n",
    "x1 = np.linspace(1860,1940,1000)\n",
    "\n",
    "popt = gauss_fit(x8,y8)\n",
    "\n",
    "plt.plot(x1, gauss(x1, *popt))\n",
    "\n",
    "plt.scatter(x8 , y8, color = \"r\")\n",
    "\n",
    "fr_index = list(gauss(x8,*popt)).index(np.max(gauss(x8, *popt)))\n",
    "fr_v5 = frequency[950 + fr_index]\n",
    "fr_v5\n",
    "\n",
    "\n",
    "maxi = np.max(gauss(x1,*popt))\n",
    "\n",
    "half_max_array = np.array([maxi/2]*len(x1))\n",
    "\n",
    "abs_vals = abs(np.array(gauss(x1,*popt) - half_max_array))\n",
    "\n",
    "min1 = np.min(abs_vals[0:fr_index])\n",
    "\n",
    "min_index1 = list(abs_vals[0:fr_index]).index(min1)\n",
    "\n",
    "min2 = np.min(abs_vals[fr_index:len(x1)])\n",
    "\n",
    "min_index2 = fr_index + list(abs_vals[fr_index:len(x1)]).index(min2)\n",
    "\n",
    "FWHM_200 = abs(x1[min_index1]-x1[min_index2])\n",
    "\n",
    "q31 = fr_v5 / FWHM_200\n",
    "\n",
    "q31\n"
   ]
  },
  {
   "cell_type": "code",
   "execution_count": null,
   "metadata": {},
   "outputs": [],
   "source": [
    "sigma120 = gauss_fit(x8,y8)\n",
    "print(sigma120)"
   ]
  },
  {
   "cell_type": "code",
   "execution_count": null,
   "metadata": {},
   "outputs": [],
   "source": [
    "# Theoretical vs Observ\n",
    "\n",
    "freq = np.array([fr_v135,fr_v120,fr_v100,fr_v77,fr_v47,fr_v31,fr_v17,fr_v5])\n",
    "vol = np.array([135, 120, 100, 77 , 47 , 31, 17 , 5])\n",
    "plt.scatter(vol, freq, color=\"r\")\n",
    "volx = np.linspace(5,140)\n",
    "\n",
    "plt.plot(volx, no_neck(volx) )\n",
    "plt.xlabel(\"Volume cm^3\")\n",
    "plt.ylabel(\"Resonant Frequency (Hz)\")\n",
    "\n",
    "plt.grid()\n",
    "plt.tight_layout()\n",
    "plt.legend()"
   ]
  },
  {
   "cell_type": "code",
   "execution_count": null,
   "metadata": {},
   "outputs": [],
   "source": [
    "#aperture Data\n",
    "#0.8cm data\n",
    "cm08 = pd.read_csv('0.8cm.csv')\n",
    "cm08_2 = pd.read_csv('0.8cm2.csv')\n",
    "cm08_3 = pd.read_csv('0.8cm3.csv')\n",
    "cm08_4 = pd.read_csv('0.8cm4.csv')\n",
    "cm08_5 = pd.read_csv('0.8cm5.csv')\n",
    "\n",
    "#1cm data\n",
    "cm1 = pd.read_csv('1cm.csv')\n",
    "cm1_2 = pd.read_csv('1cm2.csv')\n",
    "cm1_3 = pd.read_csv('1cm3.csv')\n",
    "cm1_4 = pd.read_csv('1cm4.csv')\n",
    "cm1_5 = pd.read_csv('1cm5.csv')\n",
    "\n",
    "#1.3cm data\n",
    "cm13 = pd.read_csv('1.3cm.csv')\n",
    "cm13_2 = pd.read_csv('1.3cm2.csv')\n",
    "cm13_3 = pd.read_csv('1.3cm3.csv')\n",
    "cm13_4 = pd.read_csv('1.3cm4.csv')\n",
    "cm13_5 = pd.read_csv('1.3cm5.csv')\n",
    "\n",
    "#1.6cm data\n",
    "cm16 = pd.read_csv('1.6cm.csv')\n",
    "cm16_2 = pd.read_csv('1.6cm2.csv')\n",
    "cm16_3 = pd.read_csv('1.6cm3.csv')\n",
    "cm16_4 = pd.read_csv('1.6cm4.csv')\n",
    "cm16_5 = pd.read_csv('1.6cm5.csv')\n",
    "\n",
    "#1.9cm data\n",
    "cm19 = pd.read_csv('1.9cm.csv')\n",
    "cm19_2 = pd.read_csv('1.9cm2.csv')\n",
    "cm19_3 = pd.read_csv('1.9cm3.csv')\n",
    "cm19_4 = pd.read_csv('1.9cm4.csv')\n",
    "cm19_5 = pd.read_csv('1.9cm5.csv')\n",
    "\n",
    "#2.2cm data\n",
    "cm22 = pd.read_csv('2.2cm.csv')\n",
    "cm22_2 = pd.read_csv('2.2cm2.csv')\n",
    "cm22_2 = pd.read_csv('2.2cm2.csv')\n",
    "cm22_2 = pd.read_csv('2.2cm2.csv')\n",
    "cm22_2 = pd.read_csv('2.2cm2.csv')\n",
    "\n",
    "#2.5cm data\n",
    "cm25 = pd.read_csv('2.5cm.csv')\n",
    "cm25_2 = pd.read_csv('2.5cm2.csv')\n",
    "cm25_3 = pd.read_csv('2.5cm3.csv')\n",
    "cm25_4 = pd.read_csv('2.5cm4.csv')\n",
    "cm25_5 = pd.read_csv('2.5cm5.csv')\n",
    "\n",
    "#2.7cm data\n",
    "cm27 = pd.read_csv('2.7cm.csv')\n",
    "cm27_2 = pd.read_csv('2.7cm2.csv')\n",
    "cm27_3 = pd.read_csv('2.7cm3.csv')\n",
    "cm27_4 = pd.read_csv('2.7cm4.csv')\n",
    "cm27_5 = pd.read_csv('2.7cm5.csv')\n",
    "\n"
   ]
  },
  {
   "cell_type": "code",
   "execution_count": null,
   "metadata": {},
   "outputs": [],
   "source": [
    "#0.8 cm\n",
    "x = cm08_2[\"Frequency\"][100:150]\n",
    "y = w_per_mr(cm08_2[\" Data\"][100:150])\n",
    "\n",
    "popt = gauss_fit(x,y)\n",
    "x1 = np.linspace(200,280, 2000)\n",
    "\n",
    "plt.plot(x1, gauss(x1, *popt), label = \"Gaussian Fit\")\n",
    "\n",
    "plt.scatter(x,y, color = \"r\", label = \"Observed Frequency\")\n",
    "\n",
    "fr_index = list(gauss(x,*popt)).index(np.max(gauss(x, *popt)))\n",
    "fr_cm08 = frequency[100 + fr_index]\n",
    "fr_cm08\n",
    "plt.title(\"Aperture at 0.8 cm\")\n",
    "plt.xlabel(\"Frequency (Hz)\")\n",
    "plt.ylabel('Amplitude (W/$m^{2}$)')\n",
    "plt.grid()\n",
    "plt.legend()\n",
    "plt.tight_layout()\n",
    "\n",
    "maxi = np.max(gauss(x1,*popt))\n",
    "\n",
    "half_max_array = np.array([maxi/2]*len(x1))\n",
    "\n",
    "abs_vals = abs(np.array(gauss(x1,*popt) - half_max_array))\n",
    "\n",
    "min1 = np.min(abs_vals[0:fr_index])\n",
    "\n",
    "min_index1 = list(abs_vals[0:fr_index]).index(min1)\n",
    "\n",
    "min2 = np.min(abs_vals[fr_index:len(x1)])\n",
    "\n",
    "min_index2 = fr_index + list(abs_vals[fr_index:len(x1)]).index(min2)\n",
    "\n",
    "FWHM_200 = abs(x1[min_index1]-x1[min_index2])\n",
    "\n",
    "q31 = fr_cm08 / FWHM_200\n",
    "\n",
    "q31\n",
    "\n"
   ]
  },
  {
   "cell_type": "code",
   "execution_count": null,
   "metadata": {},
   "outputs": [],
   "source": [
    "#1cm\n",
    "x = cm1[\"Frequency\"][100:150]\n",
    "y = w_per_mr(cm1[\" Data\"][100:150])\n",
    "\n",
    "popt = gauss_fit(x,y)\n",
    "x1 = np.linspace(200,280, 2000)\n",
    "\n",
    "plt.plot(x1, gauss(x1, *popt))\n",
    "\n",
    "plt.scatter(x,y, color = \"r\")\n",
    "\n",
    "fr_index = list(gauss(x1,*popt)).index(np.max(gauss(x1, *popt)))\n",
    "fr_cm1 = x1[fr_index]\n",
    "fr_cm1\n",
    "\n",
    "maxi = np.max(gauss(x1,*popt))\n",
    "\n",
    "half_max_array = np.array([maxi/2]*len(x1))\n",
    "\n",
    "abs_vals = abs(np.array(gauss(x1,*popt) - half_max_array))\n",
    "\n",
    "min1 = np.min(abs_vals[0:fr_index])\n",
    "\n",
    "min_index1 = list(abs_vals[0:fr_index]).index(min1)\n",
    "\n",
    "min2 = np.min(abs_vals[fr_index:len(x1)])\n",
    "\n",
    "min_index2 = fr_index + list(abs_vals[fr_index:len(x1)]).index(min2)\n",
    "\n",
    "FWHM_200 = abs(x1[min_index1]-x1[min_index2])\n",
    "\n",
    "q31 = fr_cm1 / FWHM_200\n",
    "\n",
    "q31\n",
    "\n"
   ]
  },
  {
   "cell_type": "code",
   "execution_count": null,
   "metadata": {},
   "outputs": [],
   "source": [
    "x_2 = cm1_2[\"Frequency\"][120:150]\n",
    "y_2 = w_per_mr(cm1_2[\" Data\"][120:150])\n",
    "\n",
    "popt = gauss_fit(x_2,y_2)\n",
    "x1 = np.linspace(220,300, 2000)\n",
    "\n",
    "plt.plot(x1, gauss(x1, *popt))\n",
    "\n",
    "plt.scatter(x_2,y_2, color=\"r\")\n",
    "\n",
    "fr_index = list(gauss(x_2,*popt)).index(np.max(gauss(x_2, *popt)))\n",
    "fr_cm1_2 = frequency[120 + fr_index]\n",
    "fr_cm1_2\n",
    "\n",
    "\n",
    "maxi = np.max(gauss(x1,*popt))\n",
    "\n",
    "half_max_array = np.array([maxi/2]*len(x1))\n",
    "\n",
    "abs_vals = abs(np.array(gauss(x1,*popt) - half_max_array))\n",
    "\n",
    "min1 = np.min(abs_vals[0:fr_index])\n",
    "\n",
    "min_index1 = list(abs_vals[0:fr_index]).index(min1)\n",
    "\n",
    "min2 = np.min(abs_vals[fr_index:len(x1)])\n",
    "\n",
    "min_index2 = fr_index + list(abs_vals[fr_index:len(x1)]).index(min2)\n",
    "\n",
    "FWHM_200 = abs(x1[min_index1]-x1[min_index2])\n",
    "\n",
    "q31 = fr_cm1_2 / FWHM_200\n",
    "\n",
    "q31\n"
   ]
  },
  {
   "cell_type": "code",
   "execution_count": null,
   "metadata": {},
   "outputs": [],
   "source": [
    "#1cm\n",
    "x_3 = cm1_3[\"Frequency\"][100:150]\n",
    "y_3 = w_per_mr(cm1_3[\" Data\"][100:150])\n",
    "\n",
    "popt = gauss_fit(x_3,y_3)\n",
    "cm1x = np.linspace(200,300, 2000)\n",
    "\n",
    "plt.plot(cm1x, gauss(cm1x, *popt))\n",
    "\n",
    "plt.scatter(x_3, y_3, color=\"r\")\n",
    "\n",
    "fr_index = list(gauss(cm1x,*popt)).index(np.max(gauss(cm1x, *popt)))\n",
    "fr_cm1_3 = cm1x[fr_index]\n",
    "fr_cm1_3\n",
    "plt.grid()\n",
    "\n"
   ]
  },
  {
   "cell_type": "code",
   "execution_count": null,
   "metadata": {},
   "outputs": [],
   "source": [
    "#1.3cm\n",
    "x = cm13_2[\"Frequency\"][135:160]\n",
    "y = w_per_mr(cm13_2[\" Data\"][135:160])\n",
    "\n",
    "popt = gauss_fit(x,y)\n",
    "x1 = np.linspace(270,310, 2000)\n",
    "\n",
    "plt.plot(x1, gauss(x1, *popt))\n",
    "plt.scatter(x, y, color = 'r')\n",
    "\n",
    "fr_index = list(gauss(x,*popt)).index(np.max(gauss(x, *popt)))\n",
    "fr_cm13 = frequency[135+fr_index]\n",
    "fr_cm13\n",
    "\n",
    "\n",
    "maxi = np.max(gauss(x1,*popt))\n",
    "\n",
    "half_max_array = np.array([maxi/2]*len(x1))\n",
    "\n",
    "abs_vals = abs(np.array(gauss(x1,*popt) - half_max_array))\n",
    "\n",
    "min1 = np.min(abs_vals[0:fr_index])\n",
    "\n",
    "min_index1 = list(abs_vals[0:fr_index]).index(min1)\n",
    "\n",
    "min2 = np.min(abs_vals[fr_index:len(x1)])\n",
    "\n",
    "min_index2 = fr_index + list(abs_vals[fr_index:len(x1)]).index(min2)\n",
    "\n",
    "FWHM_200 = abs(x1[min_index1]-x1[min_index2])\n",
    "\n",
    "q31 = fr_cm13/ FWHM_200\n",
    "\n",
    "q31\n"
   ]
  },
  {
   "cell_type": "code",
   "execution_count": null,
   "metadata": {},
   "outputs": [],
   "source": [
    "#1.6cm\n",
    "x = cm16_4[\"Frequency\"][140:170]\n",
    "y = w_per_mr(cm16_4[\" Data\"][140:170])\n",
    "\n",
    "popt = gauss_fit(x,y)\n",
    "x1 = np.linspace(275,330, 2000)\n",
    "\n",
    "plt.plot(cm1x, gauss(cm1x, *popt))\n",
    "plt.scatter(x, y, color ='r')\n",
    "\n",
    "fr_index = list(gauss(x,*popt)).index(np.max(gauss(x, *popt)))\n",
    "fr_cm16 = frequency[140 + fr_index]\n",
    "fr_cm16\n",
    "\n",
    "maxi = np.max(gauss(x1,*popt))\n",
    "\n",
    "half_max_array = np.array([maxi/2]*len(x1))\n",
    "\n",
    "abs_vals = abs(np.array(gauss(x1,*popt) - half_max_array))\n",
    "\n",
    "min1 = np.min(abs_vals[0:fr_index])\n",
    "\n",
    "min_index1 = list(abs_vals[0:fr_index]).index(min1)\n",
    "\n",
    "min2 = np.min(abs_vals[fr_index:len(x1)])\n",
    "\n",
    "min_index2 = fr_index + list(abs_vals[fr_index:len(x1)]).index(min2)\n",
    "\n",
    "FWHM_200 = abs(x1[min_index1]-x1[min_index2])\n",
    "\n",
    "q31 = fr_cm16/ FWHM_200\n",
    "\n",
    "q31\n"
   ]
  },
  {
   "cell_type": "code",
   "execution_count": null,
   "metadata": {},
   "outputs": [],
   "source": [
    "#1.9cm\n",
    "x = cm19[\"Frequency\"][140:170]\n",
    "y = w_per_mr(cm19[\" Data\"][140:170])\n",
    "\n",
    "popt = gauss_fit(x,y)\n",
    "x1 = np.linspace(270,330, 2000)\n",
    "\n",
    "plt.plot(cm1x, gauss(cm1x, *popt))\n",
    "plt.scatter(x, y, color = \"r\")\n",
    "\n",
    "fr_index = list(gauss(x,*popt)).index(np.max(gauss(x, *popt)))\n",
    "#fr_cm19 =  frequency[140 + fr_index]\n",
    "fr_cm19 = 330\n",
    "\n",
    "\n",
    "maxi = np.max(gauss(x1,*popt))\n",
    "\n",
    "half_max_array = np.array([maxi/2]*len(x1))\n",
    "\n",
    "abs_vals = abs(np.array(gauss(x1,*popt) - half_max_array))\n",
    "\n",
    "min1 = np.min(abs_vals[0:fr_index])\n",
    "\n",
    "min_index1 = list(abs_vals[0:fr_index]).index(min1)\n",
    "\n",
    "min2 = np.min(abs_vals[fr_index:len(x1)])\n",
    "\n",
    "min_index2 = fr_index + list(abs_vals[fr_index:len(x1)]).index(min2)\n",
    "\n",
    "FWHM_200 = abs(x1[min_index1]-x1[min_index2])\n",
    "\n",
    "q31 = fr_cm19/ FWHM_200\n",
    "\n",
    "q31\n"
   ]
  },
  {
   "cell_type": "code",
   "execution_count": null,
   "metadata": {},
   "outputs": [],
   "source": [
    "#2.2cm\n",
    "x = cm22[\"Frequency\"][180:210]\n",
    "y = w_per_mr(cm22[\" Data\"][180:210])\n",
    "\n",
    "popt = gauss_fit(x,y)\n",
    "cm1x = np.linspace(360,410, 2000)\n",
    "\n",
    "plt.plot(cm1x, gauss(cm1x, *popt))\n",
    "plt.scatter(x, y, color = \"r\")\n",
    "\n",
    "fr_index = list(gauss(cm1x,*popt)).index(np.max(gauss(cm1x, *popt)))\n",
    "fr_cm22 = cm1x[fr_index]\n",
    "fr_cm22\n",
    "\n",
    "maxi = np.max(gauss(cm1x,*popt))\n",
    "\n",
    "half_max_array = np.array([maxi/2]*len(x1))\n",
    "\n",
    "abs_vals = abs(np.array(gauss(cm1x,*popt) - half_max_array))\n",
    "\n",
    "min1 = np.min(abs_vals[0:fr_index])\n",
    "\n",
    "min_index1 = list(abs_vals[0:fr_index]).index(min1)\n",
    "\n",
    "min2 = np.min(abs_vals[fr_index:len(x1)])\n",
    "\n",
    "min_index2 = fr_index + list(abs_vals[fr_index:len(x1)]).index(min2)\n",
    "\n",
    "FWHM_200 = abs(x1[min_index1]-x1[min_index2])\n",
    "\n",
    "q31 = fr_cm22/ FWHM_200\n",
    "\n",
    "q31\n"
   ]
  },
  {
   "cell_type": "code",
   "execution_count": null,
   "metadata": {},
   "outputs": [],
   "source": [
    "#2.5cm\n",
    "x = cm25[\"Frequency\"][190:220]\n",
    "y = w_per_mr(cm25[\" Data\"][190:220])\n",
    "\n",
    "popt = gauss_fit(x,y)\n",
    "x1 = np.linspace(380,420, 2000)\n",
    "\n",
    "plt.plot(x1, gauss(x1, *popt))\n",
    "plt.scatter(x, y, color = \"r\")\n",
    "fr_index = list(gauss(cm1x,*popt)).index(np.max(gauss(cm1x, *popt)))\n",
    "fr_cm25 = cm1x[fr_index]\n",
    "fr_cm25\n",
    "\n",
    "maxi = np.max(gauss(x1,*popt))\n",
    "\n",
    "half_max_array = np.array([maxi/2]*len(x1))\n",
    "\n",
    "abs_vals = abs(np.array(gauss(x1,*popt) - half_max_array))\n",
    "\n",
    "min1 = np.min(abs_vals[0:fr_index])\n",
    "\n",
    "min_index1 = list(abs_vals[0:fr_index]).index(min1)\n",
    "\n",
    "min2 = np.min(abs_vals[fr_index:len(x1)])\n",
    "\n",
    "min_index2 = fr_index + list(abs_vals[fr_index:len(x1)]).index(min2)\n",
    "\n",
    "FWHM_200 = abs(x1[min_index1]-x1[min_index2])\n",
    "\n",
    "q31 = fr_cm25/ FWHM_200\n",
    "\n",
    "q31\n"
   ]
  },
  {
   "cell_type": "code",
   "execution_count": null,
   "metadata": {},
   "outputs": [],
   "source": [
    "#2.7cm\n",
    "x = cm27_4[\"Frequency\"][200:222]\n",
    "y = w_per_mr(cm27_4[\" Data\"][200:222])\n",
    "\n",
    "popt = gauss_fit(x,y)\n",
    "x1 = np.linspace(400,435, 2000)\n",
    "\n",
    "plt.plot(cm1x, gauss(cm1x, *popt))\n",
    "plt.scatter(x, y, color = \"r\")\n",
    "fr_index = list(gauss(cm1x,*popt)).index(np.max(gauss(cm1x, *popt)))\n",
    "fr_cm27 = cm1x[fr_index]\n",
    "fr_cm27\n",
    "\n",
    "maxi = np.max(gauss(x1,*popt))\n",
    "\n",
    "half_max_array = np.array([maxi/2]*len(x1))\n",
    "\n",
    "abs_vals = abs(np.array(gauss(x1,*popt) - half_max_array))\n",
    "\n",
    "min1 = np.min(abs_vals[0:fr_index])\n",
    "\n",
    "min_index1 = list(abs_vals[0:fr_index]).index(min1)\n",
    "\n",
    "min2 = np.min(abs_vals[fr_index:len(x1)])\n",
    "\n",
    "min_index2 = fr_index + list(abs_vals[fr_index:len(x1)]).index(min2)\n",
    "\n",
    "FWHM_200 = abs(x1[min_index1]-x1[min_index2])\n",
    "\n",
    "q31 = fr_cm27/ FWHM_200\n",
    "\n",
    "q31\n"
   ]
  },
  {
   "cell_type": "code",
   "execution_count": null,
   "metadata": {},
   "outputs": [],
   "source": [
    "#Aparteure \n",
    "apr_err08 = abs(aperture(0.9)- aperture(0.7))/2\n",
    "apr_err1 = abs(aperture(1.1)- aperture(0.9))/2\n",
    "apr_err13 = abs(aperture(1.4)- aperture(1.2))/2\n",
    "apr_err16 = abs(aperture(1.7)- aperture(1.5))/2\n",
    "apr_err19 = abs(aperture(2.0)- aperture(1.8))/2\n",
    "apr_err22 = abs(aperture(2.3)- aperture(2.1))/2\n",
    "apr_err25 = abs(aperture(2.6)- aperture(2.4))/2\n",
    "apr_err27 = abs(aperture(2.8)- aperture(2.6))/2"
   ]
  },
  {
   "cell_type": "code",
   "execution_count": null,
   "metadata": {},
   "outputs": [],
   "source": [
    "#changes of Volume\n",
    "freq = np.array([fr_v135,fr_v120,fr_v100,fr_v77,fr_v47,fr_v31,fr_v17,fr_v5])\n",
    "vol = np.array([135, 120, 100, 77 , 47 , 31, 17 , 5])\n",
    "plt.scatter(vol, freq, label = \"Low Volume with no Neck\")\n",
    "volx = np.linspace(5,135)\n",
    "errors = np.array([v_135_err, v_120_err,v_100_err,v_77_err,v_47_err, v_31_err, v_17_err, v_5_err])\n",
    "\n",
    "plt.errorbar(vol, freq, errors, ls =\"None\", color=\"r\")\n",
    "plt.plot(volx, no_neck(volx))\n",
    "plt.ylim(250, 2000)\n",
    "plt.xlabel(\"Volume Cm^3\")\n",
    "plt.ylabel(\"Resonant Frequency (Hz)\")\n",
    "plt.grid()"
   ]
  },
  {
   "cell_type": "code",
   "execution_count": null,
   "metadata": {},
   "outputs": [],
   "source": [
    "freq_cm = np.array([fr_cm08, fr_cm1_3, fr_cm13,fr_cm16,fr_cm19, fr_cm22,fr_cm25, fr_cm27])\n",
    "ap = np.array([0.8,1,1.3,1.6,1.9,2.2,2.5,2.7])\n",
    "plt.scatter(ap, freq_cm, label = \"Apertures\")\n",
    "apert = np.linspace(0.8,2.7,2000)\n",
    "err = np.array([apr_err08,apr_err1,apr_err13,apr_err16,apr_err19,apr_err22, apr_err25,apr_err27])\n",
    "\n",
    "plt.plot(apert, aperture(apert), color =\"black\")\n",
    "plt.errorbar(ap, freq_cm, err, ls =\"None\", color=\"blue\")\n",
    "\n",
    "plt.grid()\n",
    "plt.xlabel(\"Aperture Diameter cm\")\n",
    "plt.ylabel(\"Resonant Frequency (Hz)\")\n",
    "\n",
    "plt.tight_layout()"
   ]
  },
  {
   "cell_type": "code",
   "execution_count": null,
   "metadata": {},
   "outputs": [],
   "source": []
  },
  {
   "cell_type": "code",
   "execution_count": null,
   "metadata": {},
   "outputs": [],
   "source": [
    "# Volume errors +/- 0.05 cm^3 in volume\n",
    "vol_err135 = abs (no_neck(135 + 0.05) -no_neck(135 -0.05))/2\n",
    "vol_err120 = abs (no_neck(120 + 0.05) -no_neck(120 -0.05))/2\n",
    "vol_err100 = abs (no_neck(100 + 0.05) -no_neck(100 -0.05))/2\n",
    "vol_err77 = abs (no_neck(77 + 0.05) -no_neck(77 -0.05))/2\n",
    "vol_err47 = abs (no_neck(47 + 0.05) -no_neck(47 -0.05))/2\n",
    "vol_err31 = abs (no_neck(31 + 0.05) -no_neck(31 -0.05))/2\n",
    "vol_err17= abs (no_neck(17 + 0.05) -no_neck(17 -0.05))/2\n",
    "vol_err5 = abs (no_neck(5 + 0.05) -no_neck(5 -0.05))/2\n"
   ]
  },
  {
   "cell_type": "code",
   "execution_count": null,
   "metadata": {},
   "outputs": [],
   "source": [
    "#Aparteure \n",
    "apr_err08 = abs(aperture(0.9)- aperture(0.7))/2\n",
    "apr_err1 = abs(aperture(1.1)- aperture(0.9))/2\n",
    "apr_err13 = abs(aperture(1.4)- aperture(1.2))/2\n",
    "apr_err16 = abs(aperture(1.7)- aperture(1.5))/2\n",
    "apr_err19 = abs(aperture(2.0)- aperture(1.8))/2\n",
    "apr_err22 = abs(aperture(2.3)- aperture(2.1))/2\n",
    "apr_err25 = abs(aperture(2.6)- aperture(2.4))/2\n",
    "apr_err27 = abs(aperture(2.8)- aperture(2.6))/2"
   ]
  },
  {
   "cell_type": "code",
   "execution_count": null,
   "metadata": {},
   "outputs": [],
   "source": [
    "\n"
   ]
  },
  {
   "cell_type": "code",
   "execution_count": null,
   "metadata": {},
   "outputs": [],
   "source": [
    "def df_dV(d,L,a,V):\n",
    "   \n",
    "    vs = 343\n",
    "   \n",
    "    d = d*1e-2\n",
    "   \n",
    "    L = L*1e-2\n",
    "   \n",
    "    V = V*1e-6\n",
    "   \n",
    "    pi = np.pi\n",
    "   \n",
    "    return -vs * d * (1/8) * (pi)**-0.5 * (L+a*d)**-1 * (1/ (np.sqrt(1 / ((L + a*d)*V))*V**2))"
   ]
  },
  {
   "cell_type": "code",
   "execution_count": null,
   "metadata": {},
   "outputs": [],
   "source": [
    "def df_dd(d,L,a,V):\n",
    "   \n",
    "    vs = 343\n",
    "   \n",
    "    d = d*1e-2\n",
    "   \n",
    "    L = L*1e-2\n",
    "   \n",
    "    V = V*1e-6\n",
    "   \n",
    "    pi = np.pi\n",
    "   \n",
    "    return (vs * ((2*d)/(V*(a*d+L)) - (a*d**2)/(V*(a*d+L)**2)) /(8*pi**0.5*np.sqrt(d**2/(V*(a*d+L)))))"
   ]
  },
  {
   "cell_type": "code",
   "execution_count": null,
   "metadata": {},
   "outputs": [],
   "source": [
    "def df_dL(d,L,a,V):\n",
    "   \n",
    "    vs = 343\n",
    "   \n",
    "    d = d*1e-2\n",
    "   \n",
    "    L = L*1e-2\n",
    "   \n",
    "    V = V*1e-6\n",
    "   \n",
    "    pi = np.pi\n",
    "   \n",
    "    return (-d*vs* 8**-1 *V**-1 *pi**-0.5 * (L + a*d)**-2 * (1/np.sqrt(1/(V*(L+a*d)))))"
   ]
  },
  {
   "cell_type": "code",
   "execution_count": null,
   "metadata": {},
   "outputs": [],
   "source": [
    "#error in volume data \n",
    "vol_err = 5e-8\n",
    "diam_err = 0.001\n",
    "len_err = 0.001 \n",
    "\n",
    "vol_135 = abs(df_dV(d=1, L=0, a=np.pi/4, V = 135)*vol_err)\n",
    "vol_135stat_err = np.std(fr_v135)/np.sqrt(5)\n",
    "v_135_diam_err = df_dd(d=1, L=0, a=np.pi/4, V = 135)*diam_err\n",
    "v_135_err = np.sqrt(vol_135**2 + vol_135stat_err**2 + v_135_diam_err**2)\n",
    "\n",
    "vol_120 = abs(df_dV(d=1, L=0, a=np.pi/4, V = 120)*vol_err)\n",
    "vol_120stat_err = np.std(fr_v120)/np.sqrt(5)\n",
    "v_120_diam_err = df_dd(d=1, L=0, a=np.pi/4, V = 120)*diam_err\n",
    "v_120_err = np.sqrt(vol_120**2 + vol_120stat_err**2 + v_120_diam_err**2)\n",
    "\n",
    "vol_100 = abs(df_dV(d=1, L=0, a=np.pi/4, V = 100)*vol_err)\n",
    "vol_100stat_err = np.std(fr_v100)/np.sqrt(5)\n",
    "v_100_diam_err = df_dd(d=1, L=0, a=np.pi/4, V = 100)*diam_err\n",
    "v_100_err = np.sqrt(vol_100**2 + vol_100stat_err**2 + v_100_diam_err**2)\n",
    "\n",
    "vol_77 = abs(df_dV(d=1, L=0, a=np.pi/4, V = 77)*vol_err)\n",
    "vol_77stat_err = np.std(fr_v77)/np.sqrt(5)\n",
    "v_77_diam_err = df_dd(d=1, L=0, a=np.pi/4, V = 77)*diam_err\n",
    "v_77_err = np.sqrt(vol_77**2 + vol_77stat_err**2 + v_77_diam_err**2)\n",
    "\n",
    "vol_47 = abs(df_dV(d=1, L=0, a=np.pi/4, V = 47)*vol_err)\n",
    "vol_47stat_err = np.std(fr_v47)/np.sqrt(5)\n",
    "v_47_diam_err = df_dd(d=1, L=0, a=np.pi/4, V = 47)*diam_err\n",
    "v_47_err = np.sqrt(vol_47**2 + vol_47stat_err**2 + v_47_diam_err**2)\n",
    "\n",
    "vol_31 = abs(df_dV(d=1, L=0, a=np.pi/4, V =31)*vol_err)\n",
    "vol_31stat_err = np.std(fr_v31)/np.sqrt(5)\n",
    "v_31_diam_err = df_dd(d=1, L=0, a=np.pi/4, V = 31)*diam_err\n",
    "v_31_err = np.sqrt(vol_31**2 + vol_31stat_err**2 + v_31_diam_err**2)\n",
    "\n",
    "vol_17 = abs(df_dV(d=1, L=0, a=np.pi/4, V =17)*vol_err)\n",
    "vol_17stat_err = np.std(fr_v17)/np.sqrt(5)\n",
    "v_17_diam_err = df_dd(d=1, L=0, a=np.pi/4, V = 17)*diam_err\n",
    "v_17_err = np.sqrt(vol_17**2 + vol_17stat_err**2 + v_17_diam_err**2)\n",
    "\n",
    "vol_5 = abs(df_dV(d=1, L=0, a=np.pi/4, V = 5)*vol_err)\n",
    "vol_5stat_err = np.std(fr_v5)/np.sqrt(5)\n",
    "v_5_diam_err = df_dd(d=1, L=0, a=np.pi/4, V = 31)*diam_err\n",
    "v_5_err = np.sqrt(vol_5**2 + vol_5stat_err**2 + v_5_diam_err**2)\n",
    "\n",
    "print(v_135_err, v_120_err,v_100_err,v_77_err,v_47_err, v_31_err, v_17_err, v_5_err)\n"
   ]
  },
  {
   "cell_type": "code",
   "execution_count": null,
   "metadata": {},
   "outputs": [],
   "source": [
    "#error in aperture data \n",
    "vol_err = 5e-8\n",
    "diam_err = 0.001\n",
    "len_err = 0.001 \n",
    "\n",
    "apr_err08  = abs(df_dV(d= 0.8, L=0, a=np.pi/4, V = 326)*vol_err)\n",
    "apr_08stat_err = np.std(fr_cm08)/np.sqrt(5)\n",
    "apr_08diam_err = df_dd(d= 0.8, L=0, a=np.pi/4, V = 326)*diam_err\n",
    "apr_08_err = np.sqrt(apr_err08**2 + apr_08stat_err**2 + apr_08diam_err**2)\n",
    "\n",
    "apr_err1  = abs(df_dV(d= 1, L=0, a=np.pi/4, V = 326)*vol_err)\n",
    "apr_1stat_err = np.std(fr_cm1_3)/np.sqrt(5)\n",
    "apr_1diam_err = df_dd(d= 1, L=0, a=np.pi/4, V = 326)*diam_err\n",
    "apr_1_err = np.sqrt(apr_err1**2 + apr_1stat_err**2 + apr_1diam_err**2)\n",
    "\n",
    "apr_err13  = abs(df_dV(d= 1.3 , L=0, a=np.pi/4, V = 326)*vol_err)\n",
    "apr_13stat_err = np.std(fr_cm13)/np.sqrt(5)\n",
    "apr_13diam_err = df_dd(d= 1.3, L=0, a=np.pi/4, V = 326)*diam_err\n",
    "apr_13_err = np.sqrt(apr_err13**2 + apr_13stat_err**2 + apr_13diam_err**2)\n",
    "\n",
    "apr_err16  = abs(df_dV(d= 1.6 , L=0, a=np.pi/4, V = 326)*vol_err)\n",
    "apr_16stat_err = np.std(fr_cm16)/np.sqrt(5)\n",
    "apr_16diam_err = df_dd(d= 1.6, L=0, a=np.pi/4, V = 326)*diam_err\n",
    "apr_16_err = np.sqrt(apr_err16**2 + apr_16stat_err**2 + apr_16diam_err**2)\n",
    "\n",
    "apr_err19  = abs(df_dV(d= 1.9 , L=0, a=np.pi/4, V = 326)*vol_err)\n",
    "apr_19stat_err = np.std(fr_cm19)/np.sqrt(5)\n",
    "apr_19diam_err = df_dd(d= 1.9, L=0, a=np.pi/4, V = 326)*diam_err\n",
    "apr_19_err = np.sqrt(apr_err19**2 + apr_19stat_err**2 + apr_19diam_err**2)\n",
    "\n",
    "apr_err22  = abs(df_dV(d= 2.2 , L=0, a=np.pi/4, V = 326)*vol_err)\n",
    "apr_22stat_err = np.std(fr_cm22)/np.sqrt(5)\n",
    "apr_22diam_err = df_dd(d= 2.2, L=0, a=np.pi/4, V = 326)*diam_err\n",
    "apr_22_err = np.sqrt(apr_err22**2 + apr_22stat_err**2 + apr_22diam_err**2)\n",
    "\n",
    "apr_err25  = abs(df_dV(d= 2.5 , L=0, a=np.pi/4, V = 326)*vol_err)\n",
    "apr_25stat_err = np.std(fr_cm25)/np.sqrt(5)\n",
    "apr_25diam_err = df_dd(d= 2.5, L=0, a=np.pi/4, V = 326)*diam_err\n",
    "apr_25_err = np.sqrt(apr_err25**2 + apr_25stat_err**2 + apr_25diam_err**2)\n",
    "\n",
    "apr_err27  = abs(df_dV(d= 2.7 , L=0, a=np.pi/4, V = 326)*vol_err)\n",
    "apr_27stat_err = np.std(fr_cm27)/np.sqrt(5)\n",
    "apr_27diam_err = df_dd(d= 2.7, L=0, a=np.pi/4, V = 326)*diam_err\n",
    "apr_27_err = np.sqrt(apr_err27**2 + apr_27stat_err**2 + apr_27diam_err**2)\n",
    "\n",
    "print(apr_08_err, apr_1_err, apr_13_err,apr_16_err,apr_19_err,apr_22_err,apr_25_err,apr_27_err)"
   ]
  },
  {
   "cell_type": "code",
   "execution_count": null,
   "metadata": {},
   "outputs": [],
   "source": [
    "#changes of Volume\n",
    "freq = np.array([fr_v135,fr_v120,fr_v100,fr_v77,fr_v47,fr_v31,fr_v17,fr_v5])\n",
    "vol = np.array([135, 120, 100, 77 , 47 , 31, 17 , 5])\n",
    "plt.scatter(vol, freq, label = \" Resonant Frequency measurement \", color = 'r')\n",
    "volx = np.linspace(5,135)\n",
    "errors = np.array([v_135_err, v_120_err,v_100_err,v_77_err,v_47_err, v_31_err, v_17_err, v_5_err])\n",
    "\n",
    "plt.errorbar(vol, freq, errors, ls =\"None\", color=\"r\")\n",
    "plt.plot(volx, no_neck(volx), label = \"Theoretical Fit\")\n",
    "plt.plot(volx, no_neck_v(volx), label = \"Temperature at -20$c^{0}$\")\n",
    "plt.ylim(250, 2000)\n",
    "plt.xlabel(\"Volume ($cm^{3}$)\")\n",
    "plt.ylabel(\"Resonant Frequency (Hz)\")\n",
    "plt.grid()\n",
    "plt.tight_layout()\n",
    "plt.legend()"
   ]
  },
  {
   "cell_type": "code",
   "execution_count": null,
   "metadata": {},
   "outputs": [],
   "source": [
    "v_17_err"
   ]
  },
  {
   "cell_type": "code",
   "execution_count": null,
   "metadata": {},
   "outputs": [],
   "source": [
    "#variation in aperture\n",
    "freq_cm = np.array([fr_cm08, fr_cm1_3, fr_cm13,fr_cm16,fr_cm19, fr_cm22,fr_cm25, fr_cm27])\n",
    "ap = np.array([0.8,1,1.3,1.6,1.9,2.2,2.5,2.7])\n",
    "plt.scatter(ap, freq_cm, label = \"Resonance measurement\", color = \"red\")\n",
    "apert = np.linspace(0.8,2.7,2000)\n",
    "err = np.array([apr_08_err, apr_1_err, apr_13_err,apr_16_err,apr_19_err,apr_22_err,apr_25_err,apr_27_err])\n",
    "\n",
    "plt.plot(apert, aperture(apert), label = \"Theoretical Fit\")\n",
    "plt.plot(apert, aperture_v(apert), label = \"Temperature at -40$c^{o}$\")\n",
    "plt.errorbar(ap, freq_cm, err, ls =\"None\", color=\"red\")\n",
    "\n",
    "plt.grid()\n",
    "\n",
    "plt.xlabel(\"Aperture Diameter (cm)\")\n",
    "plt.ylabel(\"Resonant Frequency (Hz)\")\n",
    "plt.legend()\n",
    "plt.tight_layout()"
   ]
  },
  {
   "cell_type": "code",
   "execution_count": null,
   "metadata": {},
   "outputs": [],
   "source": []
  },
  {
   "cell_type": "code",
   "execution_count": null,
   "metadata": {},
   "outputs": [],
   "source": [
    "# Calibration Data \n",
    "hz200 = pd.read_csv('hz200.csv')\n",
    "hz300 = pd.read_csv('hz300.csv')\n",
    "hz400 = pd.read_csv('hz400.csv')\n",
    "hz500 = pd.read_csv('hz500.csv')\n",
    "hz600 = pd.read_csv('hz600.csv')\n",
    "hz700 = pd.read_csv('hz700.csv')\n",
    "hz800 = pd.read_csv('hz800.csv')\n",
    "hz900 = pd.read_csv('hz900.csv')"
   ]
  },
  {
   "cell_type": "code",
   "execution_count": null,
   "metadata": {},
   "outputs": [],
   "source": [
    "#graphs\n",
    "x = hz200[\"Frequency\"][90:110]\n",
    "y = w_per_mr(hz200[\" Data\"][90:110])\n",
    "\n",
    "popt = gauss_fit(x,y)\n",
    "xmx = np.linspace(180,215,2000)\n",
    "\n",
    "plt.plot(x, gauss(x, *popt))\n",
    "plt.scatter(x, y, color = \"r\")\n",
    "plt.xlabel(\"Frequency (Hz)\")\n",
    "plt.ylabel(\" Amplitude\")\n",
    "plt.title('Calibration Graph at 200 Hz')\n",
    "fr_index = list(gauss(x,*popt)).index(np.max(gauss(x, *popt)))\n",
    "fr_hz200 = frequency[90 + fr_index]\n",
    "fr_hz200\n",
    "\n"
   ]
  },
  {
   "cell_type": "code",
   "execution_count": null,
   "metadata": {},
   "outputs": [],
   "source": [
    "plt.tight_layout()\n",
    "\n",
    "\n",
    "x2 = hz300[\"Frequency\"][140:160]\n",
    "y2 = w_per_mr(hz300[\" Data\"][140:160])\n",
    "\n",
    "popt = gauss_fit(x2,y2)\n",
    "x2mx = np.linspace(180,215,2000)\n",
    "\n",
    "plt.plot(x2, gauss(x2, *popt))\n",
    "plt.scatter(x2, y2, color = \"r\")\n",
    "plt.xlabel(\"Frequency (Hz)\")\n",
    "plt.ylabel(\" Amplitude\")\n",
    "plt.title('Calibration Graph at 300 Hz')\n",
    "\n",
    "fr_index = list(gauss(x2,*popt)).index(np.max(gauss(x2, *popt)))\n",
    "fr_hz300 = frequency[140 + fr_index]\n",
    "fr_hz300\n",
    "\n",
    "\n"
   ]
  },
  {
   "cell_type": "code",
   "execution_count": null,
   "metadata": {},
   "outputs": [],
   "source": [
    "x2 = hz400[\"Frequency\"][190:220]\n",
    "y2 = w_per_mr(hz400[\" Data\"][190:220])\n",
    "\n",
    "popt = gauss_fit(x2,y2)\n",
    "x2mx = np.linspace(180,215,2000)\n",
    "\n",
    "plt.plot(x2, gauss(x2, *popt))\n",
    "plt.scatter(x2, y2, color = \"r\")\n",
    "plt.xlabel(\"Frequency (Hz)\")\n",
    "plt.ylabel(\" Amplitude\")\n",
    "plt.title('Calibration Graph at 400 Hz')\n",
    "\n",
    "fr_index = list(gauss(x2,*popt)).index(np.max(gauss(x2, *popt)))\n",
    "fr_hz400 = frequency[190 + fr_index]\n",
    "fr_hz400"
   ]
  },
  {
   "cell_type": "code",
   "execution_count": null,
   "metadata": {},
   "outputs": [],
   "source": [
    "x2 = hz500[\"Frequency\"][240:260]\n",
    "y2 = w_per_mr(hz500[\" Data\"][240:260])\n",
    "\n",
    "popt = gauss_fit(x2,y2)\n",
    "x2mx = np.linspace(180,215,2000)\n",
    "\n",
    "plt.plot(x2, gauss(x2, *popt))\n",
    "plt.scatter(x2, y2, color = \"r\")\n",
    "plt.xlabel(\"Frequency (Hz)\")\n",
    "plt.ylabel(\" Amplitude\")\n",
    "plt.title('Calibration Graph at 500 Hz')\n",
    "\n",
    "fr_index = list(gauss(x2,*popt)).index(np.max(gauss(x2, *popt)))\n",
    "fr_hz500 = frequency[240 + fr_index]\n",
    "fr_hz500"
   ]
  },
  {
   "cell_type": "code",
   "execution_count": null,
   "metadata": {},
   "outputs": [],
   "source": [
    "x2 = hz600[\"Frequency\"][290:320]\n",
    "y2 = w_per_mr(hz600[\" Data\"][290:320])\n",
    "\n",
    "popt = gauss_fit(x2,y2)\n",
    "x2mx = np.linspace(180,215,2000)\n",
    "\n",
    "plt.plot(x2, gauss(x2, *popt))\n",
    "plt.scatter(x2, y2, color = \"r\")\n",
    "plt.xlabel(\"Frequency (Hz)\")\n",
    "plt.ylabel(\" Amplitude\")\n",
    "plt.title('Calibration Graph at 600 Hz')\n",
    "\n",
    "fr_index = list(gauss(x2,*popt)).index(np.max(gauss(x2, *popt)))\n",
    "fr_hz600 = frequency[290 + fr_index]\n",
    "fr_hz600"
   ]
  },
  {
   "cell_type": "code",
   "execution_count": null,
   "metadata": {},
   "outputs": [],
   "source": [
    "x2 = hz700[\"Frequency\"][350:370]\n",
    "y2 = w_per_mr(hz700[\" Data\"][350:370])\n",
    "\n",
    "popt = gauss_fit(x2,y2)\n",
    "x2mx = np.linspace(180,215,2000)\n",
    "\n",
    "plt.plot(x2, gauss(x2, *popt))\n",
    "plt.scatter(x2, y2, color = \"r\")\n",
    "plt.xlabel(\"Frequency (Hz)\")\n",
    "plt.ylabel(\" Amplitude\")\n",
    "plt.title('Calibration Graph at 700 Hz')\n",
    "\n",
    "fr_index = list(gauss(x2,*popt)).index(np.max(gauss(x2, *popt)))\n",
    "fr_hz700 = frequency[350 + fr_index]\n",
    "fr_hz700"
   ]
  },
  {
   "cell_type": "code",
   "execution_count": null,
   "metadata": {},
   "outputs": [],
   "source": [
    "x2 = hz800[\"Frequency\"][395:420]\n",
    "y2 = w_per_mr(hz800[\" Data\"][395:420])\n",
    "\n",
    "popt = gauss_fit(x2,y2)\n",
    "x2mx = np.linspace(180,215,2000)\n",
    "\n",
    "plt.plot(x2, gauss(x2, *popt))\n",
    "plt.scatter(x2, y2, color = \"r\")\n",
    "plt.xlabel(\"Frequency (Hz)\")\n",
    "plt.ylabel(\" Amplitude\")\n",
    "plt.title('Calibration Graph at 800 Hz')\n",
    "\n",
    "fr_index = list(gauss(x2,*popt)).index(np.max(gauss(x2, *popt)))\n",
    "fr_hz800 = frequency[395 + fr_index]\n",
    "fr_hz800"
   ]
  },
  {
   "cell_type": "code",
   "execution_count": null,
   "metadata": {},
   "outputs": [],
   "source": [
    "x2 = hz900[\"Frequency\"][440:470]\n",
    "y2 = w_per_mr(hz900[\" Data\"][440:470])\n",
    "\n",
    "popt = gauss_fit(x2,y2)\n",
    "x2mx = np.linspace(860,920,2000)\n",
    "\n",
    "plt.plot(x2mx, gauss(x2mx, *popt), label = \"Gaussian Fit\")\n",
    "plt.scatter(x2, y2, color = \"r\", label = \"Observed Frequency\")\n",
    "plt.xlabel(\"Frequency (Hz)\")\n",
    "plt.ylabel(\" Amplitude (W/$m^{2}$)\")\n",
    "plt.title('Calibration Graph at 900 Hz')\n",
    "plt.tight_layout()\n",
    "plt.grid()\n",
    "plt.legend()\n",
    "\n",
    "fr_index = list(gauss(x2,*popt)).index(np.max(gauss(x2, *popt)))\n",
    "fr_hz900 = frequency[440 + fr_index]\n",
    "fr_hz900"
   ]
  },
  {
   "cell_type": "code",
   "execution_count": null,
   "metadata": {},
   "outputs": [],
   "source": [
    "freqs = np.array([fr_hz200, fr_hz300, fr_hz400, fr_hz500, fr_hz600, fr_hz700, fr_hz800, fr_hz900])\n",
    "actual = np.array([200,300,400,500,600,700,800,900])\n",
    "\n",
    "errrs = abs(actual-freqs)/freqs\n",
    "errrs"
   ]
  },
  {
   "cell_type": "code",
   "execution_count": null,
   "metadata": {},
   "outputs": [],
   "source": [
    "(fr_hz500 - 500)"
   ]
  },
  {
   "cell_type": "code",
   "execution_count": null,
   "metadata": {},
   "outputs": [],
   "source": [
    "def chi2(obvals, expvals, errors, dof):\n",
    "    unsummed = []\n",
    "    for i in np.arange(len(obvals)):\n",
    "        unsummed.append((obvals[i] - expvals[i])**2 / errors[i]**2)\n",
    "    return sum(unsummed)/dof"
   ]
  },
  {
   "cell_type": "code",
   "execution_count": null,
   "metadata": {},
   "outputs": [],
   "source": [
    "#chi 2 for volume data\n",
    "chi2(freq, no_neck(vol), errors , 7)"
   ]
  },
  {
   "cell_type": "code",
   "execution_count": null,
   "metadata": {},
   "outputs": [],
   "source": [
    "chi2(freq_cm,aperture(ap), err , 7)"
   ]
  },
  {
   "cell_type": "code",
   "execution_count": null,
   "metadata": {},
   "outputs": [],
   "source": []
  }
 ],
 "metadata": {
  "kernelspec": {
   "display_name": "Python 3 (ipykernel)",
   "language": "python",
   "name": "python3"
  },
  "language_info": {
   "codemirror_mode": {
    "name": "ipython",
    "version": 3
   },
   "file_extension": ".py",
   "mimetype": "text/x-python",
   "name": "python",
   "nbconvert_exporter": "python",
   "pygments_lexer": "ipython3",
   "version": "3.7.9"
  }
 },
 "nbformat": 4,
 "nbformat_minor": 2
}
